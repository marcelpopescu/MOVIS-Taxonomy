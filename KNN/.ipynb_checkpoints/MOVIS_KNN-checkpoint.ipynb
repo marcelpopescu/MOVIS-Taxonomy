{
 "cells": [
  {
   "cell_type": "code",
   "execution_count": 1,
   "metadata": {},
   "outputs": [],
   "source": [
    "# This Jupyter notebook performs taxonomic classification of objects listed in MOVIS-C catalog (Popescu et al. 2016)\n",
    "# It has been used to generate the taxonomic classification with KNN algorithm for Popescu et al. 2018, A&A\n",
    "# Authors: Radu Stoicescu, Marcel Popescu (popescu.marcel1983@gmail.com)\n",
    "# Created on 2018-02-01\n"
   ]
  },
  {
   "cell_type": "code",
   "execution_count": 2,
   "metadata": {},
   "outputs": [],
   "source": [
    "import pandas as pd\n",
    "import numpy as np\n",
    "from sklearn.neighbors import KNeighborsClassifier\n",
    "from itertools import compress"
   ]
  },
  {
   "cell_type": "code",
   "execution_count": 3,
   "metadata": {},
   "outputs": [],
   "source": [
    "def shrink_classes(dataframe):\n",
    "    # This function is used for preparing the training set according to the spectra published by DeMeo et al 2009\n",
    "    # Define the taxonomic groups, note that in the article they have the superscript ^ni\n",
    "    dataframe.loc[dataframe[\"TaxClass\"] == \"B\",\"TaxClass\"]  = \"Bk\"\n",
    "    \n",
    "    dataframe.loc[dataframe[\"TaxClass\"] == \"C\",\"TaxClass\"]  = \"C\"\n",
    "    dataframe.loc[dataframe[\"TaxClass\"] == \"Cb\",\"TaxClass\"] = \"C\"    \n",
    "    \n",
    "    dataframe.loc[dataframe[\"TaxClass\"] == \"Cg\",\"TaxClass\"]  = \"Cgx\"\n",
    "    dataframe.loc[dataframe[\"TaxClass\"] == \"Cgh\",\"TaxClass\"] = \"Cgx\"\n",
    "    dataframe.loc[dataframe[\"TaxClass\"] == \"Ch\",\"TaxClass\"]  = \"Cgx\"\n",
    "    dataframe.loc[dataframe[\"TaxClass\"] == \"Xc\",\"TaxClass\"]  = \"Cgx\"\n",
    "    dataframe.loc[dataframe[\"TaxClass\"] == \"Xe\",\"TaxClass\"]  = \"Cgx\"\n",
    "        \n",
    "    dataframe.loc[dataframe[\"TaxClass\"] == \"X\",\"TaxClass\"]  = \"Xt\"\n",
    "    dataframe.loc[dataframe[\"TaxClass\"] == \"Xk\",\"TaxClass\"] = \"Xt\"\n",
    "    dataframe.loc[dataframe[\"TaxClass\"] == \"T\",\"TaxClass\"]  = \"Xt\"\n",
    "    \n",
    "    dataframe.loc[dataframe[\"TaxClass\"] == \"D\",\"TaxClass\"]  = \"Ds\"\n",
    "    \n",
    "    dataframe.loc[dataframe[\"TaxClass\"] == \"K\",\"TaxClass\"] = \"Kl\"\n",
    "    dataframe.loc[dataframe[\"TaxClass\"] == \"L\",\"TaxClass\"] = \"Kl\"\n",
    "    \n",
    "    dataframe.loc[dataframe[\"TaxClass\"] == \"A\",\"TaxClass\"]  = \"Ad\"\n",
    "    dataframe.loc[dataframe[\"TaxClass\"] == \"Sa\",\"TaxClass\"] = \"Ad\"\n",
    "    \n",
    "    dataframe.loc[dataframe[\"TaxClass\"] == \"Q\",\"TaxClass\"]  = \"S\" \n",
    "    dataframe.loc[dataframe[\"TaxClass\"] == \"S\",\"TaxClass\"]  = \"S\" \n",
    "    dataframe.loc[dataframe[\"TaxClass\"] == \"Sq\",\"TaxClass\"] = \"S\" \n",
    "    dataframe.loc[dataframe[\"TaxClass\"] == \"Sr\",\"TaxClass\"] = \"S\" \n",
    "    dataframe.loc[dataframe[\"TaxClass\"] == \"Sv\",\"TaxClass\"] = \"S\" \n",
    "    \n",
    "    dataframe = dataframe.drop(dataframe[dataframe[\"TaxClass\"] == \"O\"].index)\n",
    "    dataframe = dataframe.drop(dataframe[dataframe[\"TaxClass\"] == \"R\"].index)\n",
    "\n",
    "    return dataframe"
   ]
  },
  {
   "cell_type": "code",
   "execution_count": 5,
   "metadata": {},
   "outputs": [],
   "source": [
    "# Load the training set\n",
    "df = pd.read_csv(\"../Files/371SpectraDeMeoColor.csv\", index_col=0)\n",
    "# Group the taxonomic classes\n",
    "df = shrink_classes(df)"
   ]
  },
  {
   "cell_type": "code",
   "execution_count": 6,
   "metadata": {},
   "outputs": [],
   "source": [
    "def predict(YmJ=0, JmK=0, HmK=0, YmJerr=1e-3, JmKerr=1e-3, HmKerr=1e-3, size=10000):\n",
    "    # This function is used to predict the taxonomic classification based on VISTA colours Y-J, J-Ks, and H-Ks\n",
    "    # To predict the class the function uses K-nearest neighbors with k=3 algorithm from sklearn package\n",
    "    # To account for the magnitude errors a Monte-Carlo simulation is performed\n",
    "    # The classification can be performed if at least Y-J and J-Ks are reported\n",
    "    \n",
    "    ######\n",
    "    # Format the data according to the number of received features \n",
    "    if HmK > 0 : # if H-Ks colour is available, work with 3 features\n",
    "        features = [\"YmJ\", \"JmK\", \"HmK\"]\n",
    "        errors = [\"YmJerr\", \"JmKerr\", \"HmKerr\"]\n",
    "        features = list(compress(features, [YmJ, JmK, HmK]))\n",
    "        errors = list(compress(errors, [YmJ, JmK, HmK]))\n",
    "        df_data = pd.DataFrame(data=[[YmJ, JmK, HmK]], columns=[\"YmJ\", \"JmK\", \"HmK\"])\n",
    "        df_error = pd.DataFrame(data=[[YmJerr, JmKerr, HmKerr]], columns=[\"YmJ\", \"JmK\", \"HmK\"])\n",
    "\n",
    "    else :  # work only with two features \n",
    "        features = [\"YmJ\", \"JmK\"]\n",
    "        errors = [\"YmJerr\", \"JmKerr\"]\n",
    "        features = list(compress(features, [YmJ, JmK]))\n",
    "        errors = list(compress(errors, [YmJ, JmK]))        \n",
    "        df_data = pd.DataFrame(data=[[YmJ, JmK]], columns=[\"YmJ\", \"JmK\"])\n",
    "        df_error = pd.DataFrame(data=[[YmJerr, JmKerr]], columns=[\"YmJ\", \"JmK\"])\n",
    "    #####\n",
    "    # Train the model\n",
    "    knn = KNeighborsClassifier(n_neighbors=3, metric='minkowski', metric_params=None)\n",
    "    model = knn.fit(df[features], df[\"TaxClass\"])\n",
    "        \n",
    "    #####\n",
    "    # Run the Monte-Carlo Simulation\n",
    "    df_monte_carlo = pd.DataFrame(data=None, columns=features) # initialize the data frame\n",
    "    for feature in features:\n",
    "        df_monte_carlo[feature] = np.random.normal(loc=df_data[feature], scale=df_error[feature], size=size)\n",
    "    #####\n",
    "    df_monte_carlo[\"predicted\"] = model.predict(df_monte_carlo[features])\n",
    "\n",
    "    # Sort by probabilities (i.e. normalized counts) and return the predicted classes\n",
    "    return df_monte_carlo[\"predicted\"].value_counts(normalize=True)\n",
    "    \n",
    "    "
   ]
  },
  {
   "cell_type": "code",
   "execution_count": 19,
   "metadata": {},
   "outputs": [],
   "source": [
    "# Run this cell only if you want to run the algorithm for the whole file\n",
    "# This may be the case if  you want to a different algorithm, or to change the parameters for the KNN\n",
    "# For the KNN this cell runs for several hours\n",
    "movis_c = pd.read_csv(\"../Files/MOVIS-CTax.csv\", index_col=\"#MainDesig\")\n",
    "out = []\n",
    "# Uncomment the follwing lines to run the cell\n",
    "#for idx, row in movis_c.iterrows():\n",
    "#    temp = predict(row[\"YmJ\"], row[\"JmK\"], row[\"HmK\"],row[\"YmJerr\"], row[\"JmKerr\"], row[\"HmKerr\"],1000000)\n",
    "#    out.append([str(idx),temp.index[0],temp[0]])\n",
    "#dfout = pd.DataFrame(out,columns=('MainDesig','TaxClass','MCProb'))\n",
    "#dfout.to_csv('../Files/MovisKnnCheck.csv',index=False)"
   ]
  },
  {
   "cell_type": "code",
   "execution_count": null,
   "metadata": {},
   "outputs": [],
   "source": [
    "# Run for individual object\n",
    " # Provide the main designation (i.e. number if exist, or the temporary designation) of the object you are interested in\n",
    "obj = '5587'\n",
    "# Load the catlog\n",
    "movis_c = pd.read_csv(\"../Files/MOVIS-CTax.csv\", index_col=\"#MainDesig\")\n",
    "# Copy the data in a temporary variable\n",
    "row = movis_c.loc[obj]\n",
    "# Get the taxonomic classification associated with specific MOVIS object\n",
    "MOVIS_Class = predict(row[\"YmJ\"], row[\"JmK\"], row[\"HmK\"],row[\"YmJerr\"], row[\"JmKerr\"], row[\"HmKerr\"],1000000);\n",
    "# Prin the class and the probabilities\n",
    "print(MOVIS_Class)"
   ]
  },
  {
   "cell_type": "code",
   "execution_count": null,
   "metadata": {},
   "outputs": [],
   "source": []
  }
 ],
 "metadata": {
  "kernelspec": {
   "display_name": "Python 2",
   "language": "python",
   "name": "python2"
  },
  "language_info": {
   "codemirror_mode": {
    "name": "ipython",
    "version": 3
   },
   "file_extension": ".py",
   "mimetype": "text/x-python",
   "name": "python",
   "nbconvert_exporter": "python",
   "pygments_lexer": "ipython3",
   "version": "3.6.4"
  }
 },
 "nbformat": 4,
 "nbformat_minor": 2
}
